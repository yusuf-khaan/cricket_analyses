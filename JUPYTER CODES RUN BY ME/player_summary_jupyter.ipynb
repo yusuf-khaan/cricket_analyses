{
 "cells": [
  {
   "cell_type": "code",
   "execution_count": 12,
   "id": "b5165b13-5054-42fb-9af9-762a848c3275",
   "metadata": {},
   "outputs": [],
   "source": [
    "import pandas as pd\n",
    "import json\n",
    "with open('t20_json_files/t20_wc_player_info.json') as f:\n",
    "    data=json.load(f)\n",
    "player_summary=pd.DataFrame(data)"
   ]
  },
  {
   "cell_type": "code",
   "execution_count": 13,
   "id": "856c898c-e137-484f-a0db-55e842874039",
   "metadata": {},
   "outputs": [],
   "source": [
    "player_summary['name']=player_summary['name'].apply(lambda x: x.replace('â€',''))"
   ]
  },
  {
   "cell_type": "code",
   "execution_count": 19,
   "id": "e2c4fbb8-ea90-49f9-a1bb-9f15b80cd7f1",
   "metadata": {
    "scrolled": true
   },
   "outputs": [],
   "source": [
    "player_summary['name']=player_summary['name'].apply(lambda x: x.replace('x\\a0',''))"
   ]
  },
  {
   "cell_type": "code",
   "execution_count": 21,
   "id": "679ffcee-a922-4353-af7e-2bff3c00600a",
   "metadata": {},
   "outputs": [],
   "source": [
    "player_summary.to_csv('t20_csv_files/match_summary.csv', index=False)"
   ]
  },
  {
   "cell_type": "code",
   "execution_count": null,
   "id": "ed0ae0da-fa60-4ce7-ac7c-cdc5541b3009",
   "metadata": {},
   "outputs": [],
   "source": []
  }
 ],
 "metadata": {
  "kernelspec": {
   "display_name": "Python 3 (ipykernel)",
   "language": "python",
   "name": "python3"
  },
  "language_info": {
   "codemirror_mode": {
    "name": "ipython",
    "version": 3
   },
   "file_extension": ".py",
   "mimetype": "text/x-python",
   "name": "python",
   "nbconvert_exporter": "python",
   "pygments_lexer": "ipython3",
   "version": "3.11.4"
  },
  "widgets": {
   "application/vnd.jupyter.widget-state+json": {
    "state": {},
    "version_major": 2,
    "version_minor": 0
   }
  }
 },
 "nbformat": 4,
 "nbformat_minor": 5
}
